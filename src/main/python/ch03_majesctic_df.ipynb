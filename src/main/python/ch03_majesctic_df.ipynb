{
 "cells": [
  {
   "cell_type": "markdown",
   "id": "42d2f556850ae7b3",
   "metadata": {
    "colab_type": "text",
    "id": "view-in-github"
   },
   "source": [
    "<a href=\"https://colab.research.google.com/github/kalona/net.jgp.books.spark.ch03/blob/master/src/main/python/ch03_majesctic_df.ipynb\" target=\"_parent\"><img src=\"https://colab.research.google.com/assets/colab-badge.svg\" alt=\"Open In Colab\"/></a>"
   ]
  },
  {
   "cell_type": "code",
   "id": "OKWeSXoP7Se3",
   "metadata": {
    "id": "OKWeSXoP7Se3",
    "ExecuteTime": {
     "end_time": "2024-12-02T23:01:17.580818Z",
     "start_time": "2024-12-02T23:01:17.325027Z"
    }
   },
   "source": [
    "# noinspection PyUnresolvedReferences\n",
    "from pyspark.sql import SparkSession\n",
    "\n",
    "spark = SparkSession.builder.appName(\"ch03\").getOrCreate()"
   ],
   "outputs": [
    {
     "ename": "ModuleNotFoundError",
     "evalue": "No module named 'pyspark'",
     "output_type": "error",
     "traceback": [
      "\u001B[0;31m---------------------------------------------------------------------------\u001B[0m",
      "\u001B[0;31mModuleNotFoundError\u001B[0m                       Traceback (most recent call last)",
      "Cell \u001B[0;32mIn[1], line 2\u001B[0m\n\u001B[1;32m      1\u001B[0m \u001B[38;5;66;03m# noinspection PyUnresolvedReferences\u001B[39;00m\n\u001B[0;32m----> 2\u001B[0m \u001B[38;5;28;01mfrom\u001B[39;00m \u001B[38;5;21;01mpyspark\u001B[39;00m\u001B[38;5;21;01m.\u001B[39;00m\u001B[38;5;21;01msql\u001B[39;00m \u001B[38;5;28;01mimport\u001B[39;00m SparkSession\n\u001B[1;32m      4\u001B[0m spark \u001B[38;5;241m=\u001B[39m SparkSession\u001B[38;5;241m.\u001B[39mbuilder\u001B[38;5;241m.\u001B[39mappName(\u001B[38;5;124m\"\u001B[39m\u001B[38;5;124mch03\u001B[39m\u001B[38;5;124m\"\u001B[39m)\u001B[38;5;241m.\u001B[39mgetOrCreate()\n",
      "\u001B[0;31mModuleNotFoundError\u001B[0m: No module named 'pyspark'"
     ]
    }
   ],
   "execution_count": 1
  },
  {
   "cell_type": "code",
   "id": "3ioptOUV7gJq",
   "metadata": {
    "colab": {
     "base_uri": "https://localhost:8080/"
    },
    "id": "3ioptOUV7gJq",
    "outputId": "78435b3b-46b0-4d41-cbfd-a96653dcd882",
    "jupyter": {
     "is_executing": true
    }
   },
   "source": [
    "import os\n",
    "import requests\n",
    "\n",
    "wake_path = \"../../../data/Restaurants_in_Wake_County_NC.csv\"\n",
    "durham_path = \"../../../data/Restaurants_and_Services_(Feb_21_2017).xlsx\"\n",
    "wake_url = \"https://shortener.manning.com/Jz2P\"\n",
    "durham_url = \"https://www.arcgis.com/sharing/rest/content/items/7f37ceecd9fc4b7bb4b26f46b13cdfce/data\"\n",
    "\n",
    "# Check if the files exist\n",
    "for file_path, url in [(wake_path, wake_url), (durham_path, durham_url)]:\n",
    "    if not os.path.exists(file_path):\n",
    "        print(f\"File '{file_path}' does not exist. We will download it.\")\n",
    "\n",
    "        # Create the directory if it does not exist\n",
    "        os.makedirs(os.path.dirname(file_path), exist_ok=True)\n",
    "\n",
    "        # Download the file\n",
    "        response = requests.get(url, stream=True)\n",
    "        response.raise_for_status()\n",
    "\n",
    "        with open(file_path, 'wb') as file:\n",
    "            for chunk in response.iter_content(chunk_size=8192):\n",
    "                file.write(chunk)\n",
    "\n",
    "        print(f\"File '{file_path}' downloaded successfully.\")\n",
    "\n",
    "    else:\n",
    "        print(f\"File '{file_path}' already exists.\")"
   ],
   "outputs": [],
   "execution_count": null
  },
  {
   "cell_type": "code",
   "id": "3opkh091B2gL",
   "metadata": {
    "id": "3opkh091B2gL",
    "ExecuteTime": {
     "end_time": "2024-11-30T21:56:52.100298Z",
     "start_time": "2024-11-30T21:56:46.569557Z"
    }
   },
   "source": [
    "df_wake_county = (\n",
    "    spark.read.format(\"csv\")\n",
    "    .option(\"header\", \"true\")\n",
    "    .load(wake_path)\n",
    ")"
   ],
   "outputs": [],
   "execution_count": 3
  },
  {
   "cell_type": "code",
   "id": "6454e96bf4a7325a",
   "metadata": {
    "ExecuteTime": {
     "end_time": "2024-11-29T22:38:05.598301Z",
     "start_time": "2024-11-29T22:38:05.134090Z"
    }
   },
   "source": [
    "# print(\"*** Right after ingestion\")\n",
    "df_wake_county.show(10)"
   ],
   "outputs": [
    {
     "name": "stdout",
     "output_type": "stream",
     "text": [
      "+--------+-----------+--------------------+--------------------+--------------------+-----------+-----+----------+--------------+--------------------+-----------------+--------+------------+-----------+-------------+\n",
      "|OBJECTID|     HSISID|                NAME|            ADDRESS1|            ADDRESS2|       CITY|STATE|POSTALCODE|   PHONENUMBER|  RESTAURANTOPENDATE|     FACILITYTYPE|PERMITID|           X|          Y|GEOCODESTATUS|\n",
      "+--------+-----------+--------------------+--------------------+--------------------+-----------+-----+----------+--------------+--------------------+-----------------+--------+------------+-----------+-------------+\n",
      "|    1001|04092016024|                WABA|2502 1/2 HILLSBOR...|                NULL|    RALEIGH|   NC|     27607|(919) 833-1710|2011-10-18T00:00:...|       Restaurant|    6952|-78.66818477|35.78783803|            M|\n",
      "|    1002|04092021693|  WALMART DELI #2247|2010 KILDAIRE FAR...|                NULL|       CARY|   NC|     27518|(919) 852-6651|2011-11-08T00:00:...|       Food Stand|    6953|-78.78211173|35.73717591|            M|\n",
      "|    1003|04092017012|CAROLINA SUSHI &a...|5951-107 POYNER V...|                NULL|    RALEIGH|   NC|     27616|(919) 981-5835|2015-08-28T00:00:...|       Restaurant|    6961|-78.57030208|35.86511564|            M|\n",
      "|    1004|04092030288|THE CORNER VENEZU...|    7500 RAMBLE WAY |                NULL|    RALEIGH|   NC|     27616|          NULL|2015-09-04T00:00:...|Mobile Food Units|    6962|  -78.537511|35.87630712|            M|\n",
      "|    1005|04092015530|        SUBWAY #3726| 12233 CAPITAL BLVD |                NULL|WAKE FOREST|   NC|27587-6200|(919) 556-8266|2009-12-11T00:00:...|       Restaurant|    6972|-78.54097555|35.98087357|            M|\n",
      "|    1006|04092015554|                BUKU|     110 E DAVIE ST |  TWO PROGRESS PLAZA|    RALEIGH|   NC|     27601|(919) 834-6963|2010-01-21T00:00:...|       Restaurant|    6973|-78.63762576|35.77518054|            M|\n",
      "|    1007|04092016824|      WING STOP #816|7880 ALEXANDER PR...|                NULL|    RALEIGH|   NC|     27617|(919) 237-3919|2014-12-05T00:00:...|       Restaurant|    6981|-78.77695631|35.91424375|            M|\n",
      "|    1008|04092030240|BIG MIKES BBQ (WC...|3200 Centregreen ...|610 GLENWOOD RALE...|       CARY|   NC|     27502|(910) 436-3112|2012-03-12T00:00:...|Mobile Food Units|    6995|-78.79790191|35.82644429|            M|\n",
      "|    1009|04092016133|HIBACHI CHINA BUFFET|2909  E MILLBROOK...|                NULL|    RALEIGH|   NC|     27604|(919) 878-5688|2012-03-16T00:00:...|       Restaurant|    6996|-78.58213563|35.85057911|            M|\n",
      "|    1010|04092016595|SMITHFIELD'S CHIC...|7911 FAYETTEVILLE...|                NULL|    RALEIGH|   NC|     27603|(919) 661-9151|2014-01-03T00:00:...|       Restaurant|    6999|-78.69699987|35.66636356|            M|\n",
      "+--------+-----------+--------------------+--------------------+--------------------+-----------+-----+----------+--------------+--------------------+-----------------+--------+------------+-----------+-------------+\n",
      "only showing top 10 rows\n",
      "\n"
     ]
    }
   ],
   "execution_count": 12
  },
  {
   "cell_type": "code",
   "id": "HGqZCvKB_oz1",
   "metadata": {
    "colab": {
     "base_uri": "https://localhost:8080/"
    },
    "id": "HGqZCvKB_oz1",
    "outputId": "7f46be7a-a44b-49a0-e266-2a2730c80711",
    "ExecuteTime": {
     "end_time": "2024-11-29T22:38:14.626056Z",
     "start_time": "2024-11-29T22:38:13.948220Z"
    }
   },
   "source": [
    "df_wake_county.printSchema()\n",
    "print(f\"We have {df_wake_county.count()} records.\")"
   ],
   "outputs": [
    {
     "name": "stdout",
     "output_type": "stream",
     "text": [
      "root\n",
      " |-- OBJECTID: string (nullable = true)\n",
      " |-- HSISID: string (nullable = true)\n",
      " |-- NAME: string (nullable = true)\n",
      " |-- ADDRESS1: string (nullable = true)\n",
      " |-- ADDRESS2: string (nullable = true)\n",
      " |-- CITY: string (nullable = true)\n",
      " |-- STATE: string (nullable = true)\n",
      " |-- POSTALCODE: string (nullable = true)\n",
      " |-- PHONENUMBER: string (nullable = true)\n",
      " |-- RESTAURANTOPENDATE: string (nullable = true)\n",
      " |-- FACILITYTYPE: string (nullable = true)\n",
      " |-- PERMITID: string (nullable = true)\n",
      " |-- X: string (nullable = true)\n",
      " |-- Y: string (nullable = true)\n",
      " |-- GEOCODESTATUS: string (nullable = true)\n",
      "\n",
      "We have 3440 records.\n"
     ]
    }
   ],
   "execution_count": 13
  },
  {
   "cell_type": "code",
   "id": "0cee147d",
   "metadata": {},
   "source": [
    "df_durham_county = (\n",
    "    spark.read.format(\"csv\")\n",
    "    .option(\"header\", \"true\")\n",
    "    .option(\"inferSchema\", \"true\")\n",
    "    .option(\"delimiter\", \";\")\n",
    "    .load(\"../../../data/Restaurants_in_Durham_County_NC.csv\")\n",
    ")"
   ],
   "outputs": [],
   "execution_count": null
  },
  {
   "cell_type": "code",
   "id": "ce657fef",
   "metadata": {
    "ExecuteTime": {
     "end_time": "2024-11-29T23:39:45.349342Z",
     "start_time": "2024-11-29T23:39:45.210266Z"
    }
   },
   "source": "df_durham_county.show(10)",
   "outputs": [
    {
     "name": "stdout",
     "output_type": "stream",
     "text": [
      "+-----+--------------------+--------------------+----------------+------------+-------------+-----------+--------------+------------------+------------+------------+-----+--------------------+--------------------+---------+--------------------+----+---------------+--------------------+----------------+------+----------------------+--------------------+\n",
      "|   ID|        Premise_Name|    Premise_Address1|Premise_Address2|Premise_City|Premise_State|Premise_Zip| Premise_Phone|Hours_Of_Operation|Opening_Date|Closing_Date|Seats|               Water|              Sewage|Insp_Freq|      Est_Group_Desc|Risk|Smoking_Allowed|    Type_Description|   Rpt_Area_Desc|Status|Transitional_Type_Desc|         geolocation|\n",
      "+-----+--------------------+--------------------+----------------+------------+-------------+-----------+--------------+------------------+------------+------------+-----+--------------------+--------------------+---------+--------------------+----+---------------+--------------------+----------------+------+----------------------+--------------------+\n",
      "|56060|    WEST 94TH ST PUB| 4711 HOPE VALLEY RD|        SUITE 6C|      DURHAM|           NC|      27707|(919) 403-0025|              NULL|  1994-09-01|        NULL|   60|5 - Municipal/Com...|3 - Municipal/Com...|        4|Full-Service Rest...|   4|             NO|      1 - Restaurant|    Food Service|ACTIVE|                  FOOD|35.9207272, -78.9...|\n",
      "|58123|BROOKDALE DURHAM IFS|4434 BEN FRANKLIN...|            NULL|      DURHAM|           NC|      27704|(919) 479-9966|              NULL|  2003-10-15|        NULL|  350|5 - Municipal/Com...|3 - Municipal/Com...|        4|        Nursing Home|   4|             NO|16 - Institutiona...|    Food Service|ACTIVE|                  FOOD|36.0467802, -78.8...|\n",
      "|70266|       SMOOTHIE KING|1125 W. NC HWY 54...|            NULL|      DURHAM|           NC|      27707|(919) 489-7300|              NULL|  2009-07-09|        NULL|    7|5 - Municipal/Com...|3 - Municipal/Com...|        2|Fast Food Restaurant|   2|             NO|      1 - Restaurant|    Food Service|ACTIVE|                  FOOD|35.9182655, -78.9...|\n",
      "|97837|HAMPTON INN & SUITES|   1542 N GREGSON ST|            NULL|      DURHAM|           NC|      27701|(919) 688-8880|              NULL|  2012-01-09|        NULL|  100|5 - Municipal/Com...|3 - Municipal/Com...|        2|Full-Service Rest...|   2|             NO|      1 - Restaurant|    Food Service|ACTIVE|                  FOOD|36.0183378, -78.9...|\n",
      "|60690|BETTER LIVING CON...|       909 GARCIA ST|            NULL|      DURHAM|           NC|      27704|(919) 477-5825|              NULL|  2008-06-02|        NULL|    6|5 - Municipal/Com...|3 - Municipal/Com...|        1|                NULL|   0|            N/A|43 - Residential ...|Residential Care|ACTIVE|                   N/A|36.0556347, -78.9...|\n",
      "|60686|     ADVENTURE HOUSE|   4 KIMBROUGH COURT|            NULL|      DURHAM|           NC|      27703|(919) 957-9097|              NULL|  2008-06-02|        NULL|    0|5 - Municipal/Com...|3 - Municipal/Com...|        1|                NULL|   0|            N/A|43 - Residential ...|Residential Care|ACTIVE|                   N/A|35.984012, -78.80...|\n",
      "|85252|ANOTHER BEAUTIFUL...|    1309 ANGIER AVE.|            NULL|      DURHAM|           NC|      27701|(919) 682-5292|              NULL|  2010-08-23|        NULL| NULL|5 - Municipal/Com...|3 - Municipal/Com...|        2|                NULL|   0|             NO|     42 - Child Care|        Day Care|ACTIVE|                   N/A|35.9857413, -78.8...|\n",
      "|59120|BRIDGES AT SOUTHP...|7304 CALIBRE PARK DR|            NULL|      DURHAM|           NC|      27707|          NULL|              NULL|  1996-04-02|        NULL|    0|5 - Municipal/Com...|3 - Municipal/Com...|        2|                NULL|   0|            N/A|53 - Year-Round S...|  Swimming Pools|ACTIVE|                   N/A|35.913596, -78.96...|\n",
      "|59124|SHEARTON INN UNIV...|2800 CAMPUS WALK AVE|            NULL|      DURHAM|           NC|      27705|          NULL|              NULL|  1996-04-25|        NULL|    0|5 - Municipal/Com...|3 - Municipal/Com...|        2|                NULL|   0|            N/A|53 - Year-Round S...|  Swimming Pools|ACTIVE|                   N/A|36.0111429, -78.9...|\n",
      "|59263|     SPA HEALTH CLUB|3419 HILLSBOROUGH RD|            NULL|      DURHAM|           NC|      27705|          NULL|              NULL|  2000-05-30|        NULL|    0|5 - Municipal/Com...|3 - Municipal/Com...|        2|                NULL|   0|            N/A| 55 - Year-Round Spa|  Swimming Pools|ACTIVE|                   N/A|36.0184133, -78.9...|\n",
      "+-----+--------------------+--------------------+----------------+------------+-------------+-----------+--------------+------------------+------------+------------+-----+--------------------+--------------------+---------+--------------------+----+---------------+--------------------+----------------+------+----------------------+--------------------+\n",
      "only showing top 10 rows\n",
      "\n"
     ]
    }
   ],
   "execution_count": 26
  },
  {
   "metadata": {
    "ExecuteTime": {
     "end_time": "2024-11-29T22:38:45.493713Z",
     "start_time": "2024-11-29T22:38:45.326905Z"
    }
   },
   "cell_type": "code",
   "source": [
    "df_durham_county.printSchema()\n",
    "print(f\"We have {df_durham_county.count()} records.\")"
   ],
   "id": "35ee58ade0aeed7",
   "outputs": [
    {
     "name": "stdout",
     "output_type": "stream",
     "text": [
      "root\n",
      " |-- ID: string (nullable = true)\n",
      " |-- Premise_Name: string (nullable = true)\n",
      " |-- Premise_Address1: string (nullable = true)\n",
      " |-- Premise_Address2: string (nullable = true)\n",
      " |-- Premise_City: string (nullable = true)\n",
      " |-- Premise_State: string (nullable = true)\n",
      " |-- Premise_Zip: string (nullable = true)\n",
      " |-- Premise_Phone: string (nullable = true)\n",
      " |-- Hours_Of_Operation: string (nullable = true)\n",
      " |-- Opening_Date: string (nullable = true)\n",
      " |-- Closing_Date: string (nullable = true)\n",
      " |-- Seats: string (nullable = true)\n",
      " |-- Water: string (nullable = true)\n",
      " |-- Sewage: string (nullable = true)\n",
      " |-- Insp_Freq: string (nullable = true)\n",
      " |-- Est_Group_Desc: string (nullable = true)\n",
      " |-- Risk: integer (nullable = true)\n",
      " |-- Smoking_Allowed: string (nullable = true)\n",
      " |-- Type_Description: string (nullable = true)\n",
      " |-- Rpt_Area_Desc: string (nullable = true)\n",
      " |-- Status: string (nullable = true)\n",
      " |-- Transitional_Type_Desc: string (nullable = true)\n",
      " |-- geolocation: string (nullable = true)\n",
      "\n",
      "We have 2472 records.\n"
     ]
    }
   ],
   "execution_count": 16
  },
  {
   "metadata": {
    "ExecuteTime": {
     "end_time": "2024-11-30T00:23:16.264170Z",
     "start_time": "2024-11-30T00:23:15.965336Z"
    }
   },
   "cell_type": "code",
   "source": [
    "df = (\n",
    "    spark.read.format(\"json\")\n",
    "    .load(\"../../../data/Restaurants_in_Durham_County_NC.json\")\n",
    ")"
   ],
   "id": "94a7737c9a2be654",
   "outputs": [],
   "execution_count": 61
  },
  {
   "metadata": {
    "ExecuteTime": {
     "end_time": "2024-11-30T00:38:40.354478Z",
     "start_time": "2024-11-30T00:38:40.017744Z"
    }
   },
   "cell_type": "code",
   "source": "df.show(10)",
   "id": "3bb243cf31997d1f",
   "outputs": [
    {
     "name": "stdout",
     "output_type": "stream",
     "text": [
      "+----------------+--------------------+--------------------+--------------------+--------------------+\n",
      "|       datasetid|              fields|            geometry|    record_timestamp|            recordid|\n",
      "+----------------+--------------------+--------------------+--------------------+--------------------+\n",
      "|restaurants-data|{NULL, Full-Servi...|{[-78.9573299, 35...|2017-07-13T09:15:...|1644654b953d1802c...|\n",
      "|restaurants-data|{NULL, Nursing Ho...|{[-78.8895483, 36...|2017-07-13T09:15:...|93573dbf8c9e799d8...|\n",
      "|restaurants-data|{NULL, Fast Food ...|{[-78.9593263, 35...|2017-07-13T09:15:...|0d274200c7cef50d0...|\n",
      "|restaurants-data|{NULL, Full-Servi...|{[-78.9060312, 36...|2017-07-13T09:15:...|cf3e0b175a6ebad2a...|\n",
      "|restaurants-data|{NULL, NULL, [36....|{[-78.9135175, 36...|2017-07-13T09:15:...|e796570677f7c39cc...|\n",
      "|restaurants-data|{NULL, NULL, [35....|{[-78.8077969, 35...|2017-07-13T09:15:...|90cdb7722ea7d4ffd...|\n",
      "|restaurants-data|{NULL, NULL, [35....|{[-78.8865863, 35...|2017-07-13T09:15:...|a777677a2690466ef...|\n",
      "|restaurants-data|{NULL, NULL, [35....|{[-78.9602128, 35...|2017-07-13T09:15:...|f8e7a2243f9edb2cd...|\n",
      "|restaurants-data|{NULL, NULL, [36....|{[-78.953045, 36....|2017-07-13T09:15:...|b13c50f485bd92b04...|\n",
      "|restaurants-data|{NULL, NULL, [36....|{[-78.947422, 36....|2017-07-13T09:15:...|f71fd314be631c0fe...|\n",
      "+----------------+--------------------+--------------------+--------------------+--------------------+\n",
      "only showing top 10 rows\n",
      "\n"
     ]
    }
   ],
   "execution_count": 71
  },
  {
   "metadata": {
    "ExecuteTime": {
     "end_time": "2024-11-30T00:38:35.897720Z",
     "start_time": "2024-11-30T00:38:35.878764Z"
    }
   },
   "cell_type": "code",
   "source": "df.printSchema()",
   "id": "e026ee1c07f711e2",
   "outputs": [
    {
     "name": "stdout",
     "output_type": "stream",
     "text": [
      "root\n",
      " |-- datasetid: string (nullable = true)\n",
      " |-- fields: struct (nullable = true)\n",
      " |    |-- closing_date: string (nullable = true)\n",
      " |    |-- est_group_desc: string (nullable = true)\n",
      " |    |-- geolocation: array (nullable = true)\n",
      " |    |    |-- element: double (containsNull = true)\n",
      " |    |-- hours_of_operation: string (nullable = true)\n",
      " |    |-- id: string (nullable = true)\n",
      " |    |-- insp_freq: long (nullable = true)\n",
      " |    |-- opening_date: string (nullable = true)\n",
      " |    |-- premise_address1: string (nullable = true)\n",
      " |    |-- premise_address2: string (nullable = true)\n",
      " |    |-- premise_city: string (nullable = true)\n",
      " |    |-- premise_name: string (nullable = true)\n",
      " |    |-- premise_phone: string (nullable = true)\n",
      " |    |-- premise_state: string (nullable = true)\n",
      " |    |-- premise_zip: string (nullable = true)\n",
      " |    |-- risk: long (nullable = true)\n",
      " |    |-- rpt_area_desc: string (nullable = true)\n",
      " |    |-- seats: long (nullable = true)\n",
      " |    |-- sewage: string (nullable = true)\n",
      " |    |-- smoking_allowed: string (nullable = true)\n",
      " |    |-- status: string (nullable = true)\n",
      " |    |-- transitional_type_desc: string (nullable = true)\n",
      " |    |-- type_description: string (nullable = true)\n",
      " |    |-- water: string (nullable = true)\n",
      " |-- geometry: struct (nullable = true)\n",
      " |    |-- coordinates: array (nullable = true)\n",
      " |    |    |-- element: double (containsNull = true)\n",
      " |    |-- type: string (nullable = true)\n",
      " |-- record_timestamp: string (nullable = true)\n",
      " |-- recordid: string (nullable = true)\n",
      "\n"
     ]
    }
   ],
   "execution_count": 70
  },
  {
   "metadata": {
    "ExecuteTime": {
     "end_time": "2024-11-30T00:49:14.427436Z",
     "start_time": "2024-11-30T00:49:14.122331Z"
    }
   },
   "cell_type": "code",
   "source": [
    "import pyspark.sql.functions as F\n",
    "\n",
    "df_explode = (\n",
    "    df.withColumn(\"county\", F.lit(\"Durham\"))\n",
    "    .withColumn(\"datasetId\", F.col(\"fields.id\"))\n",
    "    .withColumn(\"name\", F.col(\"fields.premise_name\"))\n",
    "    .withColumn(\"address1\", F.col(\"fields.premise_address1\"))\n",
    "    .withColumn(\"address2\", F.col(\"fields.premise_address2\"))\n",
    "    .withColumn(\"city\", F.col(\"fields.premise_city\"))\n",
    "    .withColumn(\"state\", F.col(\"fields.premise_state\"))\n",
    "    .withColumn(\"zip\", F.col(\"fields.premise_zip\"))\n",
    "    .withColumn(\"tel\", F.col(\"fields.premise_phone\"))\n",
    "    .withColumn(\"dateStart\", F.col(\"fields.opening_date\"))\n",
    "    .withColumn(\"dateEnd\", F.col(\"fields.closing_date\"))\n",
    "    .withColumn(\"type\", F.split(F.col(\"fields.type_description\"), \" - \").getItem(1))\n",
    "    .withColumn(\"geoX\", F.col(\"fields.geolocation\").getItem(0))\n",
    "    .withColumn(\"geoY\", F.col(\"fields.geolocation\").getItem(1))\n",
    ")\n",
    "\n",
    "df_explode = df_explode.withColumn(\"id\", F.concat(F.col(\"state\"), F.lit(\"_\"), F.col(\"county\"), F.lit(\"_\"),\n",
    "                                                  F.col(\"datasetId\")))\n",
    "df_explode = df_explode.drop(\"fields\", \"geometry\", \"record_timestamp\", \"recordid\")\n",
    "df_explode.count()"
   ],
   "id": "f48e2ea82a323beb",
   "outputs": [
    {
     "data": {
      "text/plain": [
       "2463"
      ]
     },
     "execution_count": 79,
     "metadata": {},
     "output_type": "execute_result"
    }
   ],
   "execution_count": 79
  },
  {
   "metadata": {
    "ExecuteTime": {
     "end_time": "2024-11-30T00:49:19.469752Z",
     "start_time": "2024-11-30T00:49:19.463886Z"
    }
   },
   "cell_type": "code",
   "source": "df_explode.printSchema()",
   "id": "52faa0bdfea6be54",
   "outputs": [
    {
     "name": "stdout",
     "output_type": "stream",
     "text": [
      "root\n",
      " |-- datasetId: string (nullable = true)\n",
      " |-- county: string (nullable = false)\n",
      " |-- name: string (nullable = true)\n",
      " |-- address1: string (nullable = true)\n",
      " |-- address2: string (nullable = true)\n",
      " |-- city: string (nullable = true)\n",
      " |-- state: string (nullable = true)\n",
      " |-- zip: string (nullable = true)\n",
      " |-- tel: string (nullable = true)\n",
      " |-- dateStart: string (nullable = true)\n",
      " |-- dateEnd: string (nullable = true)\n",
      " |-- type: string (nullable = true)\n",
      " |-- geoX: double (nullable = true)\n",
      " |-- geoY: double (nullable = true)\n",
      " |-- id: string (nullable = true)\n",
      "\n"
     ]
    }
   ],
   "execution_count": 80
  },
  {
   "metadata": {
    "ExecuteTime": {
     "end_time": "2024-11-30T00:49:25.511614Z",
     "start_time": "2024-11-30T00:49:25.333875Z"
    }
   },
   "cell_type": "code",
   "source": "df_explode.show(10)",
   "id": "27629fc40af3fb5d",
   "outputs": [
    {
     "name": "stdout",
     "output_type": "stream",
     "text": [
      "+---------+------+--------------------+--------------------+--------+------+-----+-----+--------------+----------+-------+--------------------+----------+-----------+---------------+\n",
      "|datasetId|county|                name|            address1|address2|  city|state|  zip|           tel| dateStart|dateEnd|                type|      geoX|       geoY|             id|\n",
      "+---------+------+--------------------+--------------------+--------+------+-----+-----+--------------+----------+-------+--------------------+----------+-----------+---------------+\n",
      "|    56060|Durham|    WEST 94TH ST PUB| 4711 HOPE VALLEY RD|SUITE 6C|DURHAM|   NC|27707|(919) 403-0025|1994-09-01|   NULL|          Restaurant|35.9207272|-78.9573299|NC_Durham_56060|\n",
      "|    58123|Durham|BROOKDALE DURHAM IFS|4434 BEN FRANKLIN...|    NULL|DURHAM|   NC|27704|(919) 479-9966|2003-10-15|   NULL|Institutional Foo...|36.0467802|-78.8895483|NC_Durham_58123|\n",
      "|    70266|Durham|       SMOOTHIE KING|1125 W. NC HWY 54...|    NULL|DURHAM|   NC|27707|(919) 489-7300|2009-07-09|   NULL|          Restaurant|35.9182655|-78.9593263|NC_Durham_70266|\n",
      "|    97837|Durham|HAMPTON INN & SUITES|   1542 N GREGSON ST|    NULL|DURHAM|   NC|27701|(919) 688-8880|2012-01-09|   NULL|          Restaurant|36.0183378|-78.9060312|NC_Durham_97837|\n",
      "|    60690|Durham|BETTER LIVING CON...|       909 GARCIA ST|    NULL|DURHAM|   NC|27704|(919) 477-5825|2008-06-02|   NULL|    Residential Care|36.0556347|-78.9135175|NC_Durham_60690|\n",
      "|    60686|Durham|     ADVENTURE HOUSE|   4 KIMBROUGH COURT|    NULL|DURHAM|   NC|27703|(919) 957-9097|2008-06-02|   NULL|    Residential Care| 35.984012|-78.8077969|NC_Durham_60686|\n",
      "|    85252|Durham|ANOTHER BEAUTIFUL...|    1309 ANGIER AVE.|    NULL|DURHAM|   NC|27701|(919) 682-5292|2010-08-23|   NULL|          Child Care|35.9857413|-78.8865863|NC_Durham_85252|\n",
      "|    59120|Durham|BRIDGES AT SOUTHP...|7304 CALIBRE PARK DR|    NULL|DURHAM|   NC|27707|          NULL|1996-04-02|   NULL|Year-Round Swimmi...| 35.913596|-78.9602128|NC_Durham_59120|\n",
      "|    59124|Durham|SHEARTON INN UNIV...|2800 CAMPUS WALK AVE|    NULL|DURHAM|   NC|27705|          NULL|1996-04-25|   NULL|Year-Round Swimmi...|36.0111429| -78.953045|NC_Durham_59124|\n",
      "|    59263|Durham|     SPA HEALTH CLUB|3419 HILLSBOROUGH RD|    NULL|DURHAM|   NC|27705|          NULL|2000-05-30|   NULL|      Year-Round Spa|36.0184133| -78.947422|NC_Durham_59263|\n",
      "+---------+------+--------------------+--------------------+--------+------+-----+-----+--------------+----------+-------+--------------------+----------+-----------+---------------+\n",
      "only showing top 10 rows\n",
      "\n"
     ]
    }
   ],
   "execution_count": 81
  }
 ],
 "metadata": {
  "colab": {
   "include_colab_link": true,
   "provenance": []
  },
  "kernelspec": {
   "display_name": "pyspark",
   "language": "python",
   "name": "python3"
  },
  "language_info": {
   "codemirror_mode": {
    "name": "ipython",
    "version": 3
   },
   "file_extension": ".py",
   "mimetype": "text/x-python",
   "name": "python",
   "nbconvert_exporter": "python",
   "pygments_lexer": "ipython3",
   "version": "3.10.15"
  }
 },
 "nbformat": 4,
 "nbformat_minor": 5
}
