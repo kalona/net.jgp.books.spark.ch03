{
  "cells": [
    {
      "cell_type": "markdown",
      "metadata": {
        "id": "view-in-github",
        "colab_type": "text"
      },
      "source": [
        "<a href=\"https://colab.research.google.com/github/kalona/net.jgp.books.spark.ch03/blob/master/src/main/python/ch03_majesctic_df.ipynb\" target=\"_parent\"><img src=\"https://colab.research.google.com/assets/colab-badge.svg\" alt=\"Open In Colab\"/></a>"
      ]
    },
    {
      "cell_type": "code",
      "source": [
        "from pyspark.sql import SparkSession\n",
        "\n",
        "spark = SparkSession.builder.appName(\"ch03\").getOrCreate()"
      ],
      "metadata": {
        "id": "OKWeSXoP7Se3"
      },
      "id": "OKWeSXoP7Se3",
      "execution_count": 1,
      "outputs": []
    },
    {
      "cell_type": "code",
      "source": [
        "# prompt: # Download data from https://shortener.manning.com/Jz2P into current directory with python\n",
        "\n",
        "import requests\n",
        "import os\n",
        "\n",
        "url = \"https://shortener.manning.com/Jz2P\"\n",
        "filename = \"Restaurants_in_Wake_County_NC.csv\"\n",
        "response = requests.get(url, stream=True)\n",
        "response.raise_for_status()\n",
        "\n",
        "with open(filename, 'wb') as file:\n",
        "    for chunk in response.iter_content(chunk_size=8192):\n",
        "        file.write(chunk)\n",
        "\n",
        "print(f\"File '{filename}' downloaded successfully.\")\n"
      ],
      "metadata": {
        "id": "3ioptOUV7gJq",
        "outputId": "78435b3b-46b0-4d41-cbfd-a96653dcd882",
        "colab": {
          "base_uri": "https://localhost:8080/"
        }
      },
      "id": "3ioptOUV7gJq",
      "execution_count": 3,
      "outputs": [
        {
          "output_type": "stream",
          "name": "stdout",
          "text": [
            "File 'ch03_data.csv' downloaded successfully.\n"
          ]
        }
      ]
    },
    {
      "source": [
        "df_wake_county = (\n",
        "    spark.read.format(\"csv\")\n",
        "    .option(\"header\", \"true\")\n",
        "    .load(\"Restaurants_in_Wake_County_NC.csv\")\n",
        ")"
      ],
      "cell_type": "code",
      "metadata": {
        "id": "3opkh091B2gL"
      },
      "id": "3opkh091B2gL",
      "execution_count": null,
      "outputs": []
    },
    {
      "cell_type": "code",
      "source": [
        "print(\"*** Right after ingestion\")\n",
        "df_wake_county.show(5)\n",
        "df_wake_county.printSchema()\n",
        "print(f\"We have {df_wake_county.count()} records.\")"
      ],
      "metadata": {
        "id": "HGqZCvKB_oz1",
        "outputId": "7f46be7a-a44b-49a0-e266-2a2730c80711",
        "colab": {
          "base_uri": "https://localhost:8080/"
        }
      },
      "id": "HGqZCvKB_oz1",
      "execution_count": 15,
      "outputs": [
        {
          "output_type": "stream",
          "name": "stdout",
          "text": [
            "*** Right after ingestion\n",
            "+--------+-----------+--------------------+--------------------+--------+-----------+-----+----------+--------------+--------------------+-----------------+--------+------------+-----------+-------------+\n",
            "|OBJECTID|     HSISID|                NAME|            ADDRESS1|ADDRESS2|       CITY|STATE|POSTALCODE|   PHONENUMBER|  RESTAURANTOPENDATE|     FACILITYTYPE|PERMITID|           X|          Y|GEOCODESTATUS|\n",
            "+--------+-----------+--------------------+--------------------+--------+-----------+-----+----------+--------------+--------------------+-----------------+--------+------------+-----------+-------------+\n",
            "|    1001|04092016024|                WABA|2502 1/2 HILLSBOR...|    NULL|    RALEIGH|   NC|     27607|(919) 833-1710|2011-10-18T00:00:...|       Restaurant|    6952|-78.66818477|35.78783803|            M|\n",
            "|    1002|04092021693|  WALMART DELI #2247|2010 KILDAIRE FAR...|    NULL|       CARY|   NC|     27518|(919) 852-6651|2011-11-08T00:00:...|       Food Stand|    6953|-78.78211173|35.73717591|            M|\n",
            "|    1003|04092017012|CAROLINA SUSHI &a...|5951-107 POYNER V...|    NULL|    RALEIGH|   NC|     27616|(919) 981-5835|2015-08-28T00:00:...|       Restaurant|    6961|-78.57030208|35.86511564|            M|\n",
            "|    1004|04092030288|THE CORNER VENEZU...|    7500 RAMBLE WAY |    NULL|    RALEIGH|   NC|     27616|          NULL|2015-09-04T00:00:...|Mobile Food Units|    6962|  -78.537511|35.87630712|            M|\n",
            "|    1005|04092015530|        SUBWAY #3726| 12233 CAPITAL BLVD |    NULL|WAKE FOREST|   NC|27587-6200|(919) 556-8266|2009-12-11T00:00:...|       Restaurant|    6972|-78.54097555|35.98087357|            M|\n",
            "+--------+-----------+--------------------+--------------------+--------+-----------+-----+----------+--------------+--------------------+-----------------+--------+------------+-----------+-------------+\n",
            "only showing top 5 rows\n",
            "\n",
            "root\n",
            " |-- OBJECTID: string (nullable = true)\n",
            " |-- HSISID: string (nullable = true)\n",
            " |-- NAME: string (nullable = true)\n",
            " |-- ADDRESS1: string (nullable = true)\n",
            " |-- ADDRESS2: string (nullable = true)\n",
            " |-- CITY: string (nullable = true)\n",
            " |-- STATE: string (nullable = true)\n",
            " |-- POSTALCODE: string (nullable = true)\n",
            " |-- PHONENUMBER: string (nullable = true)\n",
            " |-- RESTAURANTOPENDATE: string (nullable = true)\n",
            " |-- FACILITYTYPE: string (nullable = true)\n",
            " |-- PERMITID: string (nullable = true)\n",
            " |-- X: string (nullable = true)\n",
            " |-- Y: string (nullable = true)\n",
            " |-- GEOCODESTATUS: string (nullable = true)\n",
            "\n",
            "We have 3440 records.\n"
          ]
        }
      ]
    }
  ],
  "metadata": {
    "kernelspec": {
      "display_name": "Python 3",
      "language": "python",
      "name": "python3"
    },
    "language_info": {
      "codemirror_mode": {
        "name": "ipython",
        "version": 2
      },
      "file_extension": ".py",
      "mimetype": "text/x-python",
      "name": "python",
      "nbconvert_exporter": "python",
      "pygments_lexer": "ipython2",
      "version": "2.7.6"
    },
    "colab": {
      "provenance": [],
      "include_colab_link": true
    }
  },
  "nbformat": 4,
  "nbformat_minor": 5
}